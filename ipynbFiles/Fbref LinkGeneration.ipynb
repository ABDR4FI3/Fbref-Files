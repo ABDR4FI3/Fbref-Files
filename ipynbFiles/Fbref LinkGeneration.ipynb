{
  "nbformat": 4,
  "nbformat_minor": 0,
  "metadata": {
    "colab": {
      "provenance": [],
      "authorship_tag": "ABX9TyPTtGrElu7tvLW6jWNtN2KM",
      "include_colab_link": true
    },
    "kernelspec": {
      "name": "python3",
      "display_name": "Python 3"
    },
    "language_info": {
      "name": "python"
    }
  },
  "cells": [
    {
      "cell_type": "markdown",
      "metadata": {
        "id": "view-in-github",
        "colab_type": "text"
      },
      "source": [
        "<a href=\"https://colab.research.google.com/github/ABDR4FI3/Fbref-Files/blob/main/Fbref%20LinkGeneration.ipynb\" target=\"_parent\"><img src=\"https://colab.research.google.com/assets/colab-badge.svg\" alt=\"Open In Colab\"/></a>"
      ]
    },
    {
      "cell_type": "code",
      "execution_count": null,
      "metadata": {
        "colab": {
          "base_uri": "https://localhost:8080/"
        },
        "id": "kccmqmmPynFo",
        "outputId": "cb292271-3050-4842-82aa-f523d71e13f6"
      },
      "outputs": [
        {
          "output_type": "stream",
          "name": "stdout",
          "text": [
            "Pedro Neto\n",
            "Pedro Neto\n",
            "https://fbref.com/en/stathead/player_comparison.cgi?request=1&player_id1=7ba2eaa9&player_id2=7ba2eaa9\n"
          ]
        },
        {
          "output_type": "stream",
          "name": "stderr",
          "text": [
            "<ipython-input-1-b85c827140ee>:11: DeprecationWarning: The 'text' argument to find()-type methods is deprecated. Use 'string' instead.\n",
            "  player_link = soup.find('a', href=True, text=player_name)\n"
          ]
        }
      ],
      "source": [
        "import requests\n",
        "from bs4 import BeautifulSoup\n",
        "\n",
        "def get_player_id(player_name):\n",
        "    \"\"\"Fetches player ID from FBref based on player name.\"\"\"\n",
        "    search_url = f\"https://fbref.com/en/search/search.fcgi?search={player_name.replace(' ', '+')}\"\n",
        "    response = requests.get(search_url)\n",
        "    soup = BeautifulSoup(response.text, 'html.parser')\n",
        "\n",
        "    # Find the first relevant player link\n",
        "    player_link = soup.find('a', href=True, text=player_name)\n",
        "    if player_link:\n",
        "        player_url = player_link['href']\n",
        "        player_id = player_url.split('/')[3]  # Extract the player_id from the URL\n",
        "        return player_id\n",
        "    return None\n",
        "\n",
        "def generate_comparison_link(player1_name, player2_name):\n",
        "    \"\"\"Generates the FBref comparison link for two players.\"\"\"\n",
        "    player1_id = get_player_id(player1_name)\n",
        "    player2_id = get_player_id(player2_name)\n",
        "\n",
        "    if player1_id and player2_id:\n",
        "        # Generate the comparison URL using the two player IDs\n",
        "        comparison_url = f\"https://fbref.com/en/stathead/player_comparison.cgi?request=1&player_id1={player1_id}&player_id2={player2_id}\"\n",
        "        return comparison_url\n",
        "    return \"Player not found or mismatch in player name.\"\n",
        "\n",
        "# PyBnb format: Input and Output\n",
        "\n",
        "# Reading input in the form of two player names\n",
        "player1 = input().strip()  # First player's name\n",
        "player2 = input().strip()  # Second player's name\n",
        "\n",
        "# Generating the comparison link\n",
        "comparison_link = generate_comparison_link(player1, player2)\n",
        "\n",
        "# Output the result (comparison link or error message)\n",
        "print(comparison_link)"
      ]
    }
  ]
}